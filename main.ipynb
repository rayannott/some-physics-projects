{
 "cells": [
  {
   "cell_type": "markdown",
   "metadata": {},
   "source": [
    "# **Should** we use AI everywhere?"
   ]
  },
  {
   "cell_type": "markdown",
   "metadata": {},
   "source": [
    "## Who am I?\n",
    "\n",
    "**Airat Valiullin**  [ɑɪˈrɑt] ([eye-raht])\n",
    "- mathematician\n",
    "- programmer\n",
    "- research`(\"er\", \" assistant\")[random.randrange(2)]`\n",
    "- pianist\n",
    "\n",
    "Edu\n",
    "- BSc in applied math & physics, MIPT, 2022\n",
    "- MSc in computational science, TU Munich, 2025\n",
    "\n",
    "airat.valiullin@tum.de"
   ]
  },
  {
   "cell_type": "markdown",
   "metadata": {},
   "source": [
    "## What is this package?\n",
    "\n",
    "- it's great\n",
    "- it's amazing\n",
    "- it's only $9.99/mo (billed annually) "
   ]
  },
  {
   "cell_type": "code",
   "execution_count": 4,
   "metadata": {
    "metadata": {}
   },
   "outputs": [],
   "source": [
    "import smart"
   ]
  },
  {
   "cell_type": "markdown",
   "metadata": {},
   "source": [
    "## `add`"
   ]
  },
  {
   "cell_type": "code",
   "execution_count": 5,
   "metadata": {
    "metadata": {}
   },
   "outputs": [],
   "source": [
    "ADD_INPUTS = (\n",
    "    (1, 2),\n",
    "    (-1, 1),\n",
    "    (41.5, 0.5),\n",
    "    ('1', 2),\n",
    "    (\"one\", \"two\"),\n",
    "    ('VI', 'zwei'),\n",
    "    ('ноль', 'root of 4')\n",
    ")\n",
    "add_iter = iter(ADD_INPUTS)"
   ]
  },
  {
   "cell_type": "code",
   "execution_count": 12,
   "metadata": {
    "metadata": {}
   },
   "outputs": [
    {
     "name": "stdout",
     "output_type": "stream",
     "text": [
      "Using inputs: ('ноль', 'root of 4')\n",
      "Result: 2.0\n"
     ]
    }
   ],
   "source": [
    "add_args = next(add_iter)\n",
    "print(f\"Using inputs: {add_args}\")\n",
    "\n",
    "res = smart.add(*add_args)\n",
    "print(f\"Result: {res}\")"
   ]
  },
  {
   "cell_type": "markdown",
   "metadata": {},
   "source": [
    "## `fib`"
   ]
  },
  {
   "cell_type": "code",
   "execution_count": 13,
   "metadata": {
    "metadata": {}
   },
   "outputs": [],
   "source": [
    "FIB_INPUTS = (\n",
    "    0, 1, 5, 6, 42,)\n",
    "fib_iter = iter(FIB_INPUTS)"
   ]
  },
  {
   "cell_type": "code",
   "execution_count": 18,
   "metadata": {
    "metadata": {}
   },
   "outputs": [
    {
     "name": "stdout",
     "output_type": "stream",
     "text": [
      "Using input: 42\n",
      "Result: 267914296\n"
     ]
    }
   ],
   "source": [
    "fib_args = next(fib_iter)\n",
    "print(f\"Using input: {fib_args}\")\n",
    "\n",
    "res = smart.fib(fib_args)\n",
    "print(f\"Result: {res}\")"
   ]
  },
  {
   "cell_type": "markdown",
   "metadata": {},
   "source": [
    "## `gt`"
   ]
  },
  {
   "cell_type": "code",
   "execution_count": 20,
   "metadata": {
    "metadata": {}
   },
   "outputs": [],
   "source": [
    "GT_INPUTS = (\n",
    "    (3, 2),\n",
    "    (\"-inf\", 10),\n",
    "    (\"moon\", \"sun\"),\n",
    "    (\"python\", \"javascript\"),\n",
    "    ('eiffel tower', 'big ben'),\n",
    "    (\"foo\", \"bar\"),\n",
    ")\n",
    "gt_iter = iter(GT_INPUTS)"
   ]
  },
  {
   "cell_type": "code",
   "execution_count": 27,
   "metadata": {
    "metadata": {}
   },
   "outputs": [
    {
     "ename": "StopIteration",
     "evalue": "",
     "output_type": "error",
     "traceback": [
      "\u001b[1;31m---------------------------------------------------------------------------\u001b[0m",
      "\u001b[1;31mStopIteration\u001b[0m                             Traceback (most recent call last)",
      "Cell \u001b[1;32mIn[27], line 1\u001b[0m\n\u001b[1;32m----> 1\u001b[0m gt_args \u001b[38;5;241m=\u001b[39m \u001b[38;5;28;43mnext\u001b[39;49m\u001b[43m(\u001b[49m\u001b[43mgt_iter\u001b[49m\u001b[43m)\u001b[49m\n\u001b[0;32m      2\u001b[0m \u001b[38;5;28mprint\u001b[39m(\u001b[38;5;124mf\u001b[39m\u001b[38;5;124m\"\u001b[39m\u001b[38;5;124mUsing inputs: \u001b[39m\u001b[38;5;132;01m{\u001b[39;00mgt_args\u001b[38;5;132;01m}\u001b[39;00m\u001b[38;5;124m\"\u001b[39m)\n\u001b[0;32m      4\u001b[0m res \u001b[38;5;241m=\u001b[39m smart\u001b[38;5;241m.\u001b[39mgt(\u001b[38;5;241m*\u001b[39mgt_args)\n",
      "\u001b[1;31mStopIteration\u001b[0m: "
     ]
    }
   ],
   "source": [
    "gt_args = next(gt_iter)\n",
    "print(f\"Using inputs: {gt_args}\")\n",
    "\n",
    "res = smart.gt(*gt_args)\n",
    "print(f\"Result: {res}\")"
   ]
  },
  {
   "cell_type": "markdown",
   "metadata": {},
   "source": [
    "## `matches`"
   ]
  },
  {
   "cell_type": "code",
   "execution_count": 28,
   "metadata": {
    "metadata": {}
   },
   "outputs": [],
   "source": [
    "MATCHES_INPUTS = (\n",
    "    ('string', '.*'),\n",
    "    ('hello', 'h.+o'),\n",
    "    ('ho', 'h.+o'),\n",
    "    ('python', 'good language'),\n",
    "    ('+49 123 45678900', 'phone number'),\n",
    "    ('+49 123 45678900', 'IBAN'),\n",
    "    ('hey@mail.com', 'phone number'),\n",
    "    ('hey@mail.com', 'email'),\n",
    ")\n",
    "matches_iter = iter(MATCHES_INPUTS)"
   ]
  },
  {
   "cell_type": "code",
   "execution_count": 36,
   "metadata": {
    "metadata": {}
   },
   "outputs": [
    {
     "name": "stdout",
     "output_type": "stream",
     "text": [
      "Using inputs: ('hey@mail.com', 'email')\n",
      "Result: True\n"
     ]
    }
   ],
   "source": [
    "matches_args = next(matches_iter)\n",
    "print(f\"Using inputs: {matches_args}\")\n",
    "\n",
    "res = smart.matches(*matches_args)\n",
    "print(f\"Result: {res}\")"
   ]
  },
  {
   "cell_type": "markdown",
   "metadata": {},
   "source": [
    "## about time?"
   ]
  },
  {
   "cell_type": "code",
   "execution_count": 39,
   "metadata": {
    "metadata": {}
   },
   "outputs": [],
   "source": [
    "# EXAMPLE = '2020-01-01T00:00:00'\n",
    "EXAMPLE = '2020-01-01T00:00:00+01:00'\n",
    "# EXAMPLE = '2020-01-01T00:00:00Z'\n",
    "\n",
    "verdict, comment = smart.is_good_date_time_string(EXAMPLE)"
   ]
  },
  {
   "cell_type": "code",
   "execution_count": 40,
   "metadata": {
    "metadata": {}
   },
   "outputs": [
    {
     "name": "stdout",
     "output_type": "stream",
     "text": [
      "Verdict: True\n"
     ]
    }
   ],
   "source": [
    "print(f\"Verdict: {verdict}\")\n",
    "if not verdict:\n",
    "    print(f\"Comment: {comment}\")"
   ]
  },
  {
   "cell_type": "markdown",
   "metadata": {},
   "source": [
    "## `ast`"
   ]
  },
  {
   "cell_type": "code",
   "execution_count": 3,
   "metadata": {
    "metadata": {}
   },
   "outputs": [
    {
     "name": "stdout",
     "output_type": "stream",
     "text": [
      "```\n",
      "Module(\n",
      "    body=[\n",
      "        Assign(\n",
      "            targets=[Name(id='a', ctx=Store())],\n",
      "            value=Constant(value=1)\n",
      "        ),\n",
      "        Assign(\n",
      "            targets=[Name(id='b', ctx=Store())],\n",
      "            value=Constant(value=2)\n",
      "        ),\n",
      "        Assign(\n",
      "            targets=[Name(id='c', ctx=Store())],\n",
      "            value=BinOp(\n",
      "                left=Name(id='a', ctx=Load()),\n",
      "                op=Add(),\n",
      "                right=Name(id='b', ctx=Load())\n",
      "            )\n",
      "        )\n",
      "    ]\n",
      ")\n",
      "```\n"
     ]
    }
   ],
   "source": [
    "print(smart.ast(\"a = 1\\nb = 2\\nc = a + b\"))"
   ]
  },
  {
   "cell_type": "code",
   "execution_count": 16,
   "metadata": {
    "metadata": {}
   },
   "outputs": [
    {
     "name": "stdout",
     "output_type": "stream",
     "text": [
      "```plaintext\n",
      "Module(\n",
      "    body=[\n",
      "        Import(\n",
      "            names=[\n",
      "                alias(name='os', asname=None),\n",
      "            ]\n",
      "        ),\n",
      "        ImportFrom(\n",
      "            module='typing',\n",
      "            names=[\n",
      "                alias(name='Any', asname='LiterallyAnything'),\n",
      "            ],\n",
      "            level=0\n",
      "        ),\n",
      "        ImportFrom(\n",
      "            module='openai',\n",
      "            names=[\n",
      "                alias(name='OpenAI', asname=None),\n",
      "            ],\n",
      "            level=0\n",
      "        ),\n",
      "        Assign(\n",
      "            targets=[\n",
      "                Name(id='MODEL', ctx=Store()),\n",
      "            ],\n",
      "            value=Constant(value='gpt-4o-mini')\n",
      "        ),\n",
      "        Assign(\n",
      "            targets=[\n",
      "                Name(id='API_KEY', ctx=Store()),\n",
      "            ],\n",
      "            value=Call(\n",
      "                func=Attribute(value=Name(id='os', ctx=Load()), attr='environ', ctx=Load()),\n",
      "                args=[\n",
      "                    Constant(value='OPENAI_API_KEY')\n",
      "                ],\n",
      "                keywords=[]\n",
      "            )\n",
      "        ),\n",
      "        Assign(\n",
      "            targets=[\n",
      "                Name(id='client', ctx=Store()),\n",
      "            ],\n",
      "            value=Call(\n",
      "                func=Name(id='OpenAI', ctx=Load()),\n",
      "                args=[\n",
      "                    Keyword(arg='api_key', value=Name(id='API_KEY', ctx=Load()))\n",
      "                ],\n",
      "                keywords=[]\n",
      "            )\n",
      "        ),\n",
      "        FunctionDef(\n",
      "            name='add',\n",
      "            args=arguments(\n",
      "                args=[\n",
      "                    arg(arg='a', annotation=Name(id='LiterallyAnything', ctx=Load())),\n",
      "                    arg(arg='b', annotation=Name(id='LiterallyAnything', ctx=Load())),\n",
      "                ],\n",
      "                vararg=None,\n",
      "                kwonlyargs=[],\n",
      "                kw_defaults=[],\n",
      "                kwarg=None,\n",
      "                defaults=[]\n",
      "            ),\n",
      "            body=[\n",
      "                Assign(\n",
      "                    targets=[\n",
      "                        Name(id='completion', ctx=Store()),\n",
      "                    ],\n",
      "                    value=Call(\n",
      "                        func=Attribute(value=Name(id='client', ctx=Load()), attr='chat', ctx=Load()),\n",
      "                        args=[Attribute(value=Name(id='client', ctx=Load()), attr='chat', ctx=Load())],\n",
      "                        keywords=[\n",
      "                            Keyword(arg='model', value=Name(id='MODEL', ctx=Load())),\n",
      "                            Keyword(arg='messages', value=List(elts=[\n",
      "                                Dict(keys=[Constant(value='role'), Constant(value='content')],\n",
      "                                    values=[\n",
      "                                        Constant(value='system'),\n",
      "                                        Constant(value='You are a mathematics teacher.')\n",
      "                                    ]),\n",
      "                                Dict(keys=[Constant(value='role'), Constant(value='content')],\n",
      "                                    values=[\n",
      "                                        Constant(value='user'),\n",
      "                                        FormattedValue(value=BinOp(left=Constant(value='What is '), op=Add(), right=FormattedValue(value=Name(id='a', ctx=Load()), conversion=1)), conversion=-1)\n",
      "                                    ])\n",
      "                            ], ctx=Load()))\n",
      "                        ]\n",
      "                    )\n",
      "                ),\n",
      "                Return(\n",
      "                    value=IfExp(\n",
      "                        test=Assign(\n",
      "                            targets=[\n",
      "                                Name(id='res', ctx=Store()),\n",
      "                            ],\n",
      "                            value=Attribute(value=Index(value=Attribute(value=Name(id='completion', ctx=Load()), attr='choices', ctx=Load())), slice=Constant(value=0)), \n",
      "                            ctx=Load()\n",
      "                        ),\n",
      "                        body=Call(func=Name(id='float', ctx=Load()), args=[Name(id='res', ctx=Load())], keywords=[]),\n",
      "                        orelse=Constant(value=None)\n",
      "                    )\n",
      "                )\n",
      "            ],\n",
      "            decorator_list=[]\n",
      "        ),\n",
      "        FunctionDef(\n",
      "            name='fib',\n",
      "            args=arguments(\n",
      "                args=[\n",
      "                    arg(arg='n', annotation=Name(id='int', ctx=Load())),\n",
      "                ],\n",
      "                vararg=None,\n",
      "                kwonlyargs=[],\n",
      "                kw_defaults=[],\n",
      "                kwarg=None,\n",
      "                defaults=[]\n",
      "            ),\n",
      "            body=[\n",
      "                Assign(\n",
      "                    targets=[\n",
      "                        Name(id='completion', ctx=Store()),\n",
      "                    ],\n",
      "                    value=Call(\n",
      "                        func=Attribute(value=Name(id='client', ctx=Load()), attr='chat', ctx=Load()),\n",
      "                        args=[Attribute(value=Name(id='client', ctx=Load()), attr='chat', ctx=Load())],\n",
      "                        keywords=[\n",
      "                            Keyword(arg='model', value=Name(id='MODEL', ctx=Load())),\n",
      "                            Keyword(arg='messages', value=List(elts=[\n",
      "                                Dict(keys=[Constant(value='role'), Constant(value='content')],\n",
      "                                    values=[\n",
      "                                        Constant(value='system'),\n",
      "                                        Constant(value='You are a mathematician.')\n",
      "                                    ]),\n",
      "                                Dict(keys=[Constant(value='role'), Constant(value='content')],\n",
      "                                    values=[\n",
      "                                        Constant(value='user'),\n",
      "                                        FormattedValue(value=BinOp(left=Constant(value='Calculate the '), op=Add(), right=FormattedValue(value=Name(id='n', ctx=Load()), conversion=1)), conversion=-1)\n",
      "                                    ])\n",
      "                            ], ctx=Load()))\n",
      "                        ]\n",
      "                    )\n",
      "                ),\n",
      "                Return(\n",
      "                    value=IfExp(\n",
      "                        test=Assign(\n",
      "                            targets=[\n",
      "                                Name(id='res', ctx=Store()),\n",
      "                            ],\n",
      "                            value=Attribute(value=Index(value=Attribute(value=Name(id='completion', ctx=Load()), attr='choices', ctx=Load())), slice=Constant(value=0)),\n",
      "                            ctx=Load()\n",
      "                        ),\n",
      "                        body=Call(func=Name(id='int', ctx=Load()), args=[Name(id='res', ctx=Load())], keywords=[]),\n",
      "                        orelse=Constant(value=None)\n",
      "                    )\n",
      "                )\n",
      "            ],\n",
      "            decorator_list=[]\n",
      "        ),\n",
      "        FunctionDef(\n",
      "            name='gt',\n",
      "            args=arguments(\n",
      "                args=[\n",
      "                    arg(arg='a', annotation=Name(id='LiterallyAnything', ctx=Load())),\n",
      "                    arg(arg='b', annotation=Name(id='LiterallyAnything', ctx=Load())),\n",
      "                ],\n",
      "                vararg=None,\n",
      "                kwonlyargs=[],\n",
      "                kw_defaults=[],\n",
      "                kwarg=None,\n",
      "                defaults=[]\n",
      "            ),\n",
      "            body=[\n",
      "                Assign(\n",
      "                    targets=[\n",
      "                        Name(id='completion', ctx=Store()),\n",
      "                    ],\n",
      "                    value=Call(\n",
      "                        func=Attribute(value=Name(id='client', ctx=Load()), attr='chat', ctx=Load()),\n",
      "                        args=[Attribute(value=Name(id='client', ctx=Load()), attr='chat', ctx=Load())],\n",
      "                        keywords=[\n",
      "                            Keyword(arg='model', value=Name(id='MODEL', ctx=Load())),\n",
      "                            Keyword(arg='messages', value=List(elts=[\n",
      "                                Dict(keys=[Constant(value='role'), Constant(value='content')],\n",
      "                                    values=[\n",
      "                                        Constant(value='system'),\n",
      "                                        Constant(value='You are a lot of things, but most importantly a python developer, which you love.')\n",
      "                                    ]),\n",
      "                                Dict(keys=[Constant(value='role'), Constant(value='content')],\n",
      "                                    values=[\n",
      "                                        Constant(value='user'),\n",
      "                                        FormattedValue(value=BinOp(left=Constant(value='According to you, is '), op=Add(), right=FormattedValue(value=Name(id='a', ctx=Load()), conversion=1)), conversion=-1)\n",
      "                                    ])\n",
      "                            ], ctx=Load()))\n",
      "                        ]\n",
      "                    )\n",
      "                ),\n",
      "                Assign(\n",
      "                    targets=[\n",
      "                        Name(id='resp', ctx=Store()),\n",
      "                    ],\n",
      "                    value=Attribute(value=Index(value=Attribute(value=Name(id='completion', ctx=Load()), attr='choices', ctx=Load())), slice=Constant(value=0)), \n",
      "                    ctx=Load()\n",
      "                ),\n",
      "                Assert(test=BinaryOp(left=Name(id='resp', ctx=Load()), op=Is(), right=Constant(value=None))),\n",
      "                Return(value=Compare(left=Constant(value='yes'), ops=[In()], comparators=[Call(func=Attribute(value=Name(id='resp', ctx=Load()), attr='lower', ctx=Load()), args=[], keywords=[])]))\n",
      "            ],\n",
      "            decorator_list=[]\n",
      "        ),\n",
      "        FunctionDef(\n",
      "            name='matches',\n",
      "            args=arguments(\n",
      "                args=[\n",
      "                    arg(arg='text', annotation=Name(id='str', ctx=Load())),\n",
      "                    arg(arg='pattern', annotation=Name(id='str', ctx=Load())),\n",
      "                ],\n",
      "                vararg=None,\n",
      "                kwonlyargs=[],\n",
      "                kw_defaults=[],\n",
      "                kwarg=None,\n",
      "                defaults=[]\n",
      "            ),\n",
      "            body=[\n",
      "                Assign(\n",
      "                    targets=[\n",
      "                        Name(id='completion', ctx=Store()),\n",
      "                    ],\n",
      "                    value=Call(\n",
      "                        func=Attribute(value=Name(id='client', ctx=Load()), attr='chat', ctx=Load()),\n",
      "                        args=[Attribute(value=Name(id='client', ctx=Load()), attr='chat', ctx=Load())],\n",
      "                        keywords=[\n",
      "                            Keyword(arg='model', value=Name(id='MODEL', ctx=Load())),\n",
      "                            Keyword(arg='messages', value=List(elts=[\n",
      "                                Dict(keys=[Constant(value='role'), Constant(value='content')],\n",
      "                                    values=[\n",
      "                                        Constant(value='system'),\n",
      "                                        Constant(value='You are a regex master and a pattern matcher in general.')\n",
      "                                    ]),\n",
      "                                Dict(keys=[Constant(value='role'), Constant(value='content')],\n",
      "                                    values=[\n",
      "                                        Constant(value='user'),\n",
      "                                        FormattedValue(value=BinOp(left=Constant(value='Does the text '), op=Add(), right=FormattedValue(value=Name(id='text', ctx=Load()), conversion=1)), conversion=-1)\n",
      "                                    ])\n",
      "                            ], ctx=Load()))\n",
      "                        ]\n",
      "                    )\n",
      "                ),\n",
      "                Assign(\n",
      "                    targets=[\n",
      "                        Name(id='resp', ctx=Store()),\n",
      "                    ],\n",
      "                    value=Attribute(value=Index(value=Attribute(value=Name(id='completion', ctx=Load()), attr='choices', ctx=Load())), slice=Constant(value=0)), \n",
      "                    ctx=Load()\n",
      "                ),\n",
      "                Assert(test=BinaryOp(left=Name(id='resp', ctx=Load()), op=Is(), right=Constant(value=None))),\n",
      "                Return(value=Compare(left=Constant(value='yes'), ops=[In()], comparators=[Call(func=Attribute(value=Name(id='resp', ctx=Load()), attr='lower', ctx=Load()), args=[], keywords=[])]))\n",
      "            ],\n",
      "            decorator_list=[]\n",
      "        ),\n",
      "        FunctionDef(\n",
      "            name='ast',\n",
      "            args=arguments(\n",
      "                args=[\n",
      "                    arg(arg='code_text', annotation=Name(id='str', ctx=Load())),\n",
      "                ],\n",
      "                vararg=None,\n",
      "                kwonlyargs=[],\n",
      "                kw_defaults=[],\n",
      "                kwarg=None,\n",
      "                defaults=[]\n",
      "            ),\n",
      "            body=[\n",
      "                Assign(\n",
      "                    targets=[\n",
      "                        Name(id='completion', ctx=Store()),\n",
      "                    ],\n",
      "                    value=Call(\n",
      "                        func=Attribute(value=Name(id='client', ctx=Load()), attr='chat', ctx=Load()),\n",
      "                        args=[Attribute(value=Name(id='client', ctx=Load()), attr='chat', ctx=Load())],\n",
      "                        keywords=[\n",
      "                            Keyword(arg='model', value=Name(id='MODEL', ctx=Load())),\n",
      "                            Keyword(arg='messages', value=List(elts=[\n",
      "                                Dict(keys=[Constant(value='role'), Constant(value='content')],\n",
      "                                    values=[\n",
      "                                        Constant(value='system'),\n",
      "                                        Constant(value='You are the python interpreter.')\n",
      "                                    ]),\n",
      "                                Dict(keys=[Constant(value='role'), Constant(value='content')],\n",
      "                                    values=[\n",
      "                                        Constant(value='user'),\n",
      "                                        FormattedValue(value=BinOp(left=Constant(value='Construct an abstract syntax tree for the following code and style it pretty:\\n'), op=Add(), right=FormattedValue(value=Name(id='code_text', ctx=Load()), conversion=1)), conversion=-1)\n",
      "                                    ])\n",
      "                            ], ctx=Load()))\n",
      "                        ]\n",
      "                    )\n",
      "                ),\n",
      "                Return(value=IfExp(test=Attribute(value=Name(id='completion', ctx=Load()), attr='choices', ctx=Load()), body=Attribute(value=Index(value=Attribute(value=Name(id='completion', ctx=Load()), attr='choices', ctx=Load())), slice=Constant(value=0)), orelse=Constant(value='')))\n",
      "            ],\n",
      "            decorator_list=[]\n",
      "        ),\n",
      "        FunctionDef(\n",
      "            name='is_good_date_time_string',\n",
      "            args=arguments(\n",
      "                args=[\n",
      "                    arg(arg='dt_str', annotation=Name(id='str', ctx=Load())),\n",
      "                ],\n",
      "                vararg=None,\n",
      "                kwonlyargs=[],\n",
      "                kw_defaults=[],\n",
      "                kwarg=None,\n",
      "                defaults=[]\n",
      "            ),\n",
      "            body=[\n",
      "                Assign(\n",
      "                    targets=[\n",
      "                        Name(id='completion', ctx=Store()),\n",
      "                    ],\n",
      "                    value=Call(\n",
      "                        func=Attribute(value=Name(id='client', ctx=Load()), attr='chat', ctx=Load()),\n",
      "                        args=[Attribute(value=Name(id='client', ctx=Load()), attr='chat', ctx=Load())],\n",
      "                        keywords=[\n",
      "                            Keyword(arg='model', value=Name(id='MODEL', ctx=Load())),\n",
      "                            Keyword(arg='messages', value=List(elts=[\n",
      "                                Dict(keys=[Constant(value='role'), Constant(value='content')],\n",
      "                                    values=[\n",
      "                                        Constant(value='system'),\n",
      "                                        Constant(value='You are a date and time validator.')\n",
      "                                    ]),\n",
      "                                Dict(keys=[Constant(value='role'), Constant(value='content')],\n",
      "                                    values=[\n",
      "                                        Constant(value='user'),\n",
      "                                        FormattedValue(value=BinOp(left=Constant(value='Check if the following string is a valid datetime according to RFC3339:\\n'), op=Add(), right=FormattedValue(value=Name(id='dt_str', ctx=Load()), conversion=1)), conversion=-1)\n",
      "                                    ])\n",
      "                            ], ctx=Load()))\n",
      "                        ]\n",
      "                    )\n",
      "                ),\n",
      "                Assign(\n",
      "                    targets=[\n",
      "                        Name(id='resp', ctx=Store()),\n",
      "                    ],\n",
      "                    value=Attribute(value=Index(value=Attribute(value=Name(id='completion', ctx=Load()), attr='choices', ctx=Load())), slice=Constant(value=0)), \n",
      "                    ctx=Load()\n",
      "                ),\n",
      "                Assert(test=BinaryOp(left=Name(id='resp', ctx=Load()), op=Is(), right=Constant(value=None))),\n",
      "                Return(value=Tuple(elts=[\n",
      "                    Compare(left=Constant(value='yes'), ops=[In()], comparators=[Call(func=Attribute(value=Name(id='resp', ctx=Load()), attr='lower', ctx=Load()), args=[], keywords=[])])],\n",
      "                    ctx=Load()\n",
      "                ], elts=[]))\n",
      "            ],\n",
      "            decorator_list=[]\n",
      "        ),\n",
      "    ],\n",
      "    type_ignores=[]\n",
      ")\n",
      "```\n"
     ]
    }
   ],
   "source": [
    "import pathlib\n",
    "\n",
    "smart_path = pathlib.Path('smart.py')\n",
    "\n",
    "print(smart.ast(smart_path.read_text()))"
   ]
  },
  {
   "cell_type": "markdown",
   "metadata": {},
   "source": [
    "## `advise`"
   ]
  },
  {
   "cell_type": "code",
   "execution_count": 41,
   "metadata": {
    "metadata": {}
   },
   "outputs": [],
   "source": [
    "from typing import Iterable\n",
    "\n",
    "Number = int | float | complex\n",
    "\n",
    "\n",
    "@smart.advise\n",
    "def say_hi_to(name: str) -> str:\n",
    "    return f'Hi, {name}!'\n",
    "\n",
    "\n",
    "@smart.advise\n",
    "def magic(it: Iterable[Number]) -> Iterable[Number]:\n",
    "    return map((1).__add__, it)"
   ]
  },
  {
   "cell_type": "code",
   "execution_count": 42,
   "metadata": {
    "metadata": {}
   },
   "outputs": [
    {
     "name": "stdout",
     "output_type": "stream",
     "text": [
      "The `@smart.advise` decorator applied to the `say_hi_to` function suggests that it enhances or modifies the behavior of the function in some way. While the specific implementation of `smart.advise` isn't provided here, a common purpose for such decorators is to add functionality like logging, validation, caching, or error handling around the core logic of the function.\n",
      "\n",
      "In the case of the `say_hi_to` function, which takes a string argument `name` and returns a greeting message, the decorator could be doing things like:\n",
      "\n",
      "- **Logging:** Keeping track of how many times the function is called or logging which names have been greeted.\n",
      "- **Validation:** Ensuring that the input is a valid string and possibly raising an error if it is not.\n",
      "- **Caching:** Storing the result of the computation to avoid recalculating the same greeting for the same name in subsequent calls.\n",
      "- **Performance monitoring:** Measuring how long the function takes to execute and reporting that information.\n",
      "\n",
      "Overall, the `say_hi_to` function will greet the input name by returning a string formatted as \"Hi, {name}!\", while the `@smart.advise` decorator provides additional functionality to enhance its behavior.\n"
     ]
    },
    {
     "data": {
      "text/plain": [
       "'Hi, John!'"
      ]
     },
     "execution_count": 42,
     "metadata": {},
     "output_type": "execute_result"
    }
   ],
   "source": [
    "say_hi_to('John')"
   ]
  },
  {
   "cell_type": "code",
   "execution_count": 43,
   "metadata": {
    "metadata": {}
   },
   "outputs": [
    {
     "name": "stdout",
     "output_type": "stream",
     "text": [
      "The function `magic(it: Iterable[Number]) -> Iterable[Number]` is decorated with `@smart.advise`, which suggests that there's additional behavior or logging happening related to the function call. The function takes an iterable of numbers as input and applies the expression `(1).__add__` to each element in that iterable using the `map` function.\n",
      "\n",
      "Here's a detailed breakdown of what this function does:\n",
      "\n",
      "1. **Input**: The argument passed to the function is an iterable containing the numbers `[1, 0, 4]`.\n",
      "\n",
      "2. **Operation**: Inside the function, `map` is used to iterate over the input iterable (`it`). The expression `(1).__add__` is a method that represents the addition operation where `1` is added to each element of the iterable. This is the same as writing a lambda function `lambda x: x + 1`.\n",
      "\n",
      "3. **Output**: The function returns a `map` object, which is an iterator that will yield results when iterated over. This means that the actual addition operation is not performed until you explicitly iterate over this map object (e.g., by converting it to a list or using a for loop).\n",
      "\n",
      "4. **Expected Result**: When the `map` object is fully iterated (e.g., by calling `list(magic([1, 0, 4]))`), it will produce the result `[2, 1, 5]`, as it adds `1` to each number in the input list.\n",
      "\n",
      "In summary, the function `magic` takes each number from the input iterable, adds `1` to it, and returns a map object that can be iterated over to obtain the results. The `@smart.advise` decorator suggests that there may be additional functionality related to logging, debugging, or monitoring, which is not shown in the provided code snippet.\n"
     ]
    }
   ],
   "source": [
    "res = magic([1, 0, 4])"
   ]
  },
  {
   "cell_type": "markdown",
   "metadata": {},
   "source": [
    "# future work"
   ]
  },
  {
   "cell_type": "markdown",
   "metadata": {},
   "source": [
    "- profiling\n",
    "- convert more mathematicians and physicists into programmers"
   ]
  }
 ],
 "metadata": {
  "kernelspec": {
   "display_name": "venv",
   "language": "python",
   "name": "python3"
  },
  "language_info": {
   "codemirror_mode": {
    "name": "ipython",
    "version": 3
   },
   "file_extension": ".py",
   "mimetype": "text/x-python",
   "name": "python",
   "nbconvert_exporter": "python",
   "pygments_lexer": "ipython3",
   "version": "3.13.0"
  }
 },
 "nbformat": 4,
 "nbformat_minor": 2
}
