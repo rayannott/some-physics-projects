{
 "cells": [
  {
   "cell_type": "markdown",
   "metadata": {},
   "source": [
    "# This code enumerates tabulated lists"
   ]
  },
  {
   "cell_type": "code",
   "execution_count": 4,
   "metadata": {},
   "outputs": [],
   "source": [
    "def read_file(filename):\n",
    "    with open(filename, 'r') as fr:\n",
    "        return fr.readlines()\n",
    "\n",
    "def write_to_file(filename, lines):\n",
    "    with open(filename, 'w') as fw:\n",
    "        for line in lines:\n",
    "            fw.write(line)\n",
    "\n",
    "def create_list(lines, TAB='\\t'):\n",
    "    def count_tabs(s):\n",
    "        i = 0\n",
    "        cnt = 0\n",
    "        while True:\n",
    "            if s[i] == TAB:\n",
    "                cnt += 1\n",
    "                i += 1\n",
    "            else:\n",
    "                return cnt\n",
    "    \n",
    "    def get_numbering(level):\n",
    "        res = []\n",
    "        for lvl in range(level+1):\n",
    "            res.append(str(levels_count[lvl]))\n",
    "        return '.'.join(res) + '.'\n",
    "    \n",
    "    res = []\n",
    "    levels = [count_tabs(line) for line in lines]\n",
    "    levels_count = {lvl: 1 for lvl in range(max(levels)+1)}\n",
    "    increase = set()\n",
    "    prev_level = 0\n",
    "    for line, level in zip(lines, levels):\n",
    "        if level in increase:\n",
    "            levels_count[level] += 1\n",
    "            increase.remove(level)\n",
    "        if prev_level < level:\n",
    "            levels_count[level] = 1\n",
    "        increase.add(level)\n",
    "        res.append(f'{TAB*level}{get_numbering(level)} {line[level:]}')\n",
    "        prev_level = level\n",
    "    return res\n"
   ]
  },
  {
   "cell_type": "code",
   "execution_count": 5,
   "metadata": {},
   "outputs": [
    {
     "name": "stdout",
     "output_type": "stream",
     "text": [
      "input:\n",
      "task\n",
      "\tsubtask\n",
      "task\n",
      "\tsubtask\n",
      "\tsubtask\n",
      "\t\tsubsubtask\n",
      "\tsubtask\n",
      "\t\tsubsubtask\n",
      "\t\tsubsubtask\n",
      "task\n",
      "task\n",
      "\tsubtask\n",
      "\t\tsubsubtask\n",
      "\t\t\tsubsubsubtask\n",
      "\t\t\tsubsubsubtask\n"
     ]
    }
   ],
   "source": [
    "print('input:')\n",
    "lines = read_file('todo_list.txt')\n",
    "print(''.join(lines))"
   ]
  },
  {
   "cell_type": "code",
   "execution_count": 6,
   "metadata": {},
   "outputs": [
    {
     "name": "stdout",
     "output_type": "stream",
     "text": [
      "output:\n",
      "1. task\n",
      "\t1.1. subtask\n",
      "2. task\n",
      "\t2.1. subtask\n",
      "\t2.2. subtask\n",
      "\t\t2.2.1. subsubtask\n",
      "\t2.3. subtask\n",
      "\t\t2.3.1. subsubtask\n",
      "\t\t2.3.2. subsubtask\n",
      "3. task\n",
      "4. task\n",
      "\t4.1. subtask\n",
      "\t\t4.1.1. subsubtask\n",
      "\t\t\t4.1.1.1. subsubsubtask\n",
      "\t\t\t4.1.1.2. subsubsubtask\n"
     ]
    }
   ],
   "source": [
    "print('output:')\n",
    "result = create_list(lines)\n",
    "print(''.join(result))"
   ]
  },
  {
   "cell_type": "code",
   "execution_count": 51,
   "metadata": {},
   "outputs": [],
   "source": [
    "write_to_file('out.txt', result)"
   ]
  }
 ],
 "metadata": {
  "interpreter": {
   "hash": "49cb93f377a7abe7414b7b0f21fb3017538004a126cf690fb524202736b7fb92"
  },
  "kernelspec": {
   "display_name": "Python 3 (ipykernel)",
   "language": "python",
   "name": "python3"
  },
  "language_info": {
   "codemirror_mode": {
    "name": "ipython",
    "version": 3
   },
   "file_extension": ".py",
   "mimetype": "text/x-python",
   "name": "python",
   "nbconvert_exporter": "python",
   "pygments_lexer": "ipython3",
   "version": "3.8.12"
  }
 },
 "nbformat": 4,
 "nbformat_minor": 4
}
