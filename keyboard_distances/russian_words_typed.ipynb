{
 "cells": [
  {
   "cell_type": "code",
   "execution_count": 106,
   "metadata": {},
   "outputs": [],
   "source": [
    "from math import sqrt"
   ]
  },
  {
   "cell_type": "code",
   "execution_count": 132,
   "metadata": {},
   "outputs": [],
   "source": [
    "KEY = 19 # [mm] - dist btw the edges of two keys"
   ]
  },
  {
   "cell_type": "code",
   "execution_count": 175,
   "metadata": {},
   "outputs": [],
   "source": [
    "def place_keys(layout):\n",
    "    global KEY\n",
    "    keys = dict()\n",
    "    keys[layout[0]] = (0,0)\n",
    "    keys[layout[12]] = (-KEY, KEY/4)\n",
    "    keys[layout[23]] = (-2*KEY, KEY/2)\n",
    "    for i in range(32):\n",
    "        if i not in {0,12,23}:\n",
    "            keys[layout[i]] = (keys[layout[i-1]][0], keys[layout[i-1]][1] + KEY)\n",
    "    keys['ё'] = (KEY, -1.5*KEY)\n",
    "    return keys"
   ]
  },
  {
   "cell_type": "code",
   "execution_count": 176,
   "metadata": {},
   "outputs": [],
   "source": [
    "layout = 'йцукенгшщзхъфывапролджэячсмитьбю'\n",
    "keys = place_keys(layout)"
   ]
  },
  {
   "cell_type": "code",
   "execution_count": 177,
   "metadata": {},
   "outputs": [],
   "source": [
    "def keys_distance(key1, key2):\n",
    "    global keys\n",
    "    pt1 = keys[key1]\n",
    "    pt2 = keys[key2]\n",
    "    return sqrt((pt1[0]-pt2[0])**2 + (pt1[1]-pt2[1])**2)"
   ]
  },
  {
   "cell_type": "code",
   "execution_count": 178,
   "metadata": {},
   "outputs": [],
   "source": [
    "def word_type_distance(word):\n",
    "    global keys\n",
    "    if len(word) == 1:\n",
    "        return 0\n",
    "    total_dist = 0\n",
    "    for ch1, ch2 in zip(word[:-1], word[1:]):\n",
    "        total_dist += keys_distance(ch1, ch2)\n",
    "    return total_dist"
   ]
  },
  {
   "cell_type": "code",
   "execution_count": 179,
   "metadata": {},
   "outputs": [],
   "source": [
    "def load_words(filename):\n",
    "    global layout\n",
    "    with open(filename,'r') as f:\n",
    "        words = f.read().splitlines()\n",
    "    return [w for w in words if set(w).issubset(layout) and len(set(w)) > 1]"
   ]
  },
  {
   "cell_type": "code",
   "execution_count": 181,
   "metadata": {},
   "outputs": [],
   "source": [
    "def words_on_one_row(words, row):\n",
    "    global keys, KEY\n",
    "    result = []\n",
    "    for w in words:\n",
    "        heights = set([keys[ch][0] for ch in w])\n",
    "        if heights == {-row*KEY}:\n",
    "            result.append(w)\n",
    "    return result"
   ]
  },
  {
   "cell_type": "code",
   "execution_count": 155,
   "metadata": {},
   "outputs": [],
   "source": [
    "words = load_words('russian_words.txt')"
   ]
  },
  {
   "cell_type": "code",
   "execution_count": 156,
   "metadata": {},
   "outputs": [],
   "source": [
    "words_measured = [(w, word_type_distance(w)) for w in words]"
   ]
  },
  {
   "cell_type": "code",
   "execution_count": 157,
   "metadata": {},
   "outputs": [],
   "source": [
    "wm_sorted_len = sorted(words_measured, key=lambda x: len(x[0]), reverse=True)"
   ]
  },
  {
   "cell_type": "code",
   "execution_count": 158,
   "metadata": {},
   "outputs": [],
   "source": [
    "wm_sorted_dist = sorted(words_measured, key=lambda x: x[1], reverse=True)"
   ]
  },
  {
   "cell_type": "code",
   "execution_count": 192,
   "metadata": {},
   "outputs": [
    {
     "name": "stdout",
     "output_type": "stream",
     "text": [
      "взяла 501.20990458261076\n",
      "лыжах 509.6497686075837\n",
      "дуэйн 568.8323451562217\n",
      "уэйд 511.4692669117354\n",
      "слэйд 502.80026783008725\n",
      "лэйхи 553.8692834302733\n",
      "сэйди 575.7825266791551\n",
      "вэйд 505.57195059508615\n",
      "сэйэр 634.8200148337075\n",
      "духах 531.559931776303\n",
      "кэйли 529.3803010521395\n",
      "мэйдж 502.2217192026699\n",
      "войдя 502.6284571546188\n",
      "кэйз 505.7288053773291\n",
      "съеду 502.1259456123005\n",
      "былых 515.5925866223166\n",
      "пэйли 504.3261299532473\n",
      "фэйгл 530.0894744062429\n",
      "тэйбс 530.3826111279081\n",
      "сойдя 500.3682869618539\n",
      "уэйну 505.57195059508615\n",
      "мэйли 519.9758985608311\n",
      "княэя 504.0077690114035\n",
      "вэйда 600.5719505950862\n",
      "фэйри 510.9680363289886\n",
      "извън 504.5461097858278\n",
      "кэйтс 502.9234545291655\n",
      "хэйзу 519.2593860001207\n",
      "върху 522.4503758305053\n",
      "дядям 502.41223883050185\n",
      "худых 572.5925866223166\n",
      "вэйдж 524.5719505950862\n",
      "уэйтс 521.7665997469226\n",
      "мэйда 578.2217192026699\n",
      "худую 521.7347589552578\n",
      "сэйдж 521.04269687192\n",
      "емэйл 503.5480774282806\n",
      "твэйн 507.28161919493016\n",
      "уэйда 606.4692669117354\n",
      "мэйлы 578.3785739849128\n",
      "взыщу 521.7702834920015\n",
      "сэйбр 538.4071147282725\n",
      "звъня 504.5461097858278\n",
      "фэйна 518.9703585828549\n",
      "эйджу 511.6261216939784\n",
      "вэяла 543.871578554754\n",
      "адядя 540.4122388305018\n",
      "кэйдж 511.62612169397835\n",
      "элуэй 512.1153526456378\n",
      "фэйл 524.7288053773291\n",
      "фэйла 600.7288053773291\n",
      "хуэво 537.8973163166493\n",
      "двэйн 556.6746342784368\n",
      "эймэй 597.5904857732936\n",
      "тэйду 566.0606623912228\n",
      "тэйда 540.8002678300873\n",
      "йосэф 532.4709706452046\n",
      "куэйл 511.6261216939784\n",
      "нэйху 639.2180363289885\n",
      "нэйла 512.2722074278809\n",
      "уэйлс 584.8544389289796\n",
      "вихях 526.8899926503723\n",
      "эйсэй 600.6496950893197\n",
      "хухуя 503.5\n",
      "вдухе 500.2603945611355\n",
      "фэйта 543.6513579888048\n",
      "вэйду 625.8323451562217\n",
      "куэйз 543.5719505950862\n",
      "кэйди 566.3659515012134\n",
      "вляза 501.45000250935016\n",
      "фэйну 537.6746342784368\n",
      "фэйхи 686.8692834302732\n",
      "уэйли 548.2234462698966\n",
      "худыш 516.1502610954586\n",
      "щяхме 500.3197673608269\n",
      "върха 500.10014443808905\n",
      "эйдел 501.1341191953012\n",
      "вэйнс 503.5043145340489\n",
      "зыбыл 502.99153539910503\n",
      "сэйру 510.29576752231594\n",
      "хубэй 514.4666080061914\n"
     ]
    }
   ],
   "source": [
    "for w, d in words_measured:\n",
    "    if len(w) < 6 and d > 500:\n",
    "        print(w, d)"
   ]
  },
  {
   "cell_type": "code",
   "execution_count": 193,
   "metadata": {},
   "outputs": [],
   "source": [
    "words_on_row_0 = words_on_one_row(words, 0)\n",
    "words_on_row_0.sort(key=lambda x: len(x), reverse=True)"
   ]
  },
  {
   "cell_type": "code",
   "execution_count": 194,
   "metadata": {},
   "outputs": [
    {
     "data": {
      "text/plain": [
       "['ууууууууух',\n",
       " 'ценнейшее',\n",
       " 'нуууууууу',\n",
       " 'ехууууууу',\n",
       " 'хейнекен',\n",
       " 'ууууууух',\n",
       " 'кукушку',\n",
       " 'кузнецу',\n",
       " 'зенгзен',\n",
       " 'нуууууу']"
      ]
     },
     "execution_count": 194,
     "metadata": {},
     "output_type": "execute_result"
    }
   ],
   "source": [
    "words_on_row_0[:10]"
   ]
  },
  {
   "cell_type": "code",
   "execution_count": null,
   "metadata": {},
   "outputs": [],
   "source": []
  }
 ],
 "metadata": {
  "kernelspec": {
   "display_name": "Python 3",
   "language": "python",
   "name": "python3"
  },
  "language_info": {
   "codemirror_mode": {
    "name": "ipython",
    "version": 3
   },
   "file_extension": ".py",
   "mimetype": "text/x-python",
   "name": "python",
   "nbconvert_exporter": "python",
   "pygments_lexer": "ipython3",
   "version": "3.8.5"
  }
 },
 "nbformat": 4,
 "nbformat_minor": 4
}
