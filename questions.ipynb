{
 "cells": [
  {
   "cell_type": "code",
   "execution_count": 3,
   "metadata": {
    "metadata": {}
   },
   "outputs": [],
   "source": [
    "import pathlib\n",
    "\n",
    "import smart"
   ]
  },
  {
   "cell_type": "code",
   "execution_count": 4,
   "metadata": {
    "metadata": {}
   },
   "outputs": [],
   "source": [
    "SMART_PATH = pathlib.Path('smart.py')"
   ]
  },
  {
   "cell_type": "code",
   "execution_count": null,
   "metadata": {
    "metadata": {}
   },
   "outputs": [],
   "source": [
    "def ask(question: str) -> str:\n",
    "    prompt = f\"\"\"here is my code for this new innovative module I've been developing:\\n{SMART_PATH.read_text()}\n",
    "    {question}\n",
    "    give a short answer\"\"\"\n",
    "    \n",
    "    completion = smart.client.chat.completions.create(\n",
    "        model=smart.MODEL,\n",
    "        messages=[\n",
    "            {\"role\": \"system\", \"content\": \"You are a typical code reviewer.\"},\n",
    "            {\n",
    "                \"role\": \"user\",\n",
    "                \"content\": prompt,\n",
    "            },\n",
    "        ],\n",
    "    )\n",
    "    return completion.choices[0].message.content or \"\""
   ]
  },
  {
   "cell_type": "code",
   "execution_count": 10,
   "metadata": {
    "metadata": {}
   },
   "outputs": [
    {
     "name": "stdout",
     "output_type": "stream",
     "text": [
      "Using AI systems like OpenAI's models can offer powerful capabilities, especially for tasks that require natural language understanding or generation, such as conversational agents, language translation, and creative writing. However, there are several considerations to keep in mind:\n",
      "\n",
      "### Advantages of Using AI\n",
      "\n",
      "1. **Automation**: AI can automate repetitive tasks, freeing human resources for more complex work.\n",
      "2. **Processing Power**: AI systems can analyze large data sets quickly and make decisions based on that data, which is beneficial in fields like finance, healthcare, and technology.\n",
      "3. **Scalability**: Leveraging AI can handle varying workloads flexibly and efficiently.\n",
      "4. **Natural Language Processing**: Tasks involving language understanding, generation, or translation can benefit significantly from AI.\n",
      "\n",
      "### Disadvantages and Concerns\n",
      "\n",
      "1. **Accuracy**: AI models may produce incorrect or nonsensical results. In your code, for example, using `client.chat.completions.create` for mathematical calculations can lead to inaccurate outputs if the model fails to interpret the query correctly.\n",
      "   \n",
      "2. **Transparency**: AI models, especially large ones like GPT, can act as \"black boxes,\" where it may not be clear how they reach certain conclusions. In fields where accountability is crucial (like law or medicine), this can be problematic.\n",
      "   \n",
      "3. **Dependency**: Relying too much on AI can lead to skill degradation in humans, as people may become accustomed to using AI for tasks without developing their own skills in the process.\n",
      "   \n",
      "4. **Resource Consumption**: AI models require substantial computational resources and energy, raising concerns about sustainability.\n",
      "   \n",
      "5. **Bias and Fairness**: AI systems can exhibit biases present in training data, leading to potentially unfair or discriminatory outcomes.\n",
      "\n",
      "### Best Practices\n",
      "\n",
      "- **Human Oversight**: Always involve human judgment in critical tasks. AI should assist rather than replace human decision-making.\n",
      "- **Validation**: Validate the outputs of AI systems, especially in contexts where precision is essential (like financial calculations or legal interpretations).\n",
      "- **Hybrid Approaches**: Combine AI with traditional programming methods for tasks where accuracy is paramount. This can provide a balance between automation and precision.\n",
      "- **Use Cases Review**: Continuously evaluate if AI is the best tool for the task at hand.\n",
      "\n",
      "### Conclusion\n",
      "\n",
      "AI has its place and can offer significant benefits when used judiciously. For the specific context of your code, consider whether using AI for basic numerical computations and validations adds value or complexity to the solution. In many cases, simple algorithms or existing libraries may yield more reliable results for typical programming tasks.\n"
     ]
    }
   ],
   "source": [
    "ans = ask('should we really use AI wherever we can?')\n",
    "print(ans)"
   ]
  }
 ],
 "metadata": {
  "kernelspec": {
   "display_name": "venv",
   "language": "python",
   "name": "python3"
  },
  "language_info": {
   "codemirror_mode": {
    "name": "ipython",
    "version": 3
   },
   "file_extension": ".py",
   "mimetype": "text/x-python",
   "name": "python",
   "nbconvert_exporter": "python",
   "pygments_lexer": "ipython3",
   "version": "3.13.0"
  }
 },
 "nbformat": 4,
 "nbformat_minor": 2
}
