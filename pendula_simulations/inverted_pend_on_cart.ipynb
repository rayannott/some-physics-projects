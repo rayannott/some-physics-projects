{
 "cells": [
  {
   "cell_type": "code",
   "execution_count": 1,
   "metadata": {},
   "outputs": [],
   "source": [
    "import numpy as np\n",
    "import matplotlib.pyplot as plt\n",
    "import sympy as smp\n",
    "import scipy"
   ]
  },
  {
   "cell_type": "code",
   "execution_count": 2,
   "metadata": {},
   "outputs": [],
   "source": [
    "t, l, g, m, M = smp.symbols('t l g m M')"
   ]
  },
  {
   "cell_type": "code",
   "execution_count": 17,
   "metadata": {},
   "outputs": [],
   "source": [
    "thet1, thet2, x = smp.symbols(r'theta_1 theta_2 x', cls=smp.Function)\n",
    "thet1 = thet1(t)\n",
    "thet2 = thet2(t)\n",
    "x = x(t)"
   ]
  },
  {
   "cell_type": "code",
   "execution_count": 19,
   "metadata": {},
   "outputs": [],
   "source": [
    "thet1_d = smp.diff(thet1, t)\n",
    "thet1_dd = smp.diff(thet1_d, t)\n",
    "x_d = smp.diff(x, t)\n",
    "thet2_d = smp.diff(thet2, t)\n",
    "thet2_dd = smp.diff(thet2_d, t)\n",
    "x_dd = smp.diff(x_d, t)"
   ]
  },
  {
   "cell_type": "code",
   "execution_count": 5,
   "metadata": {},
   "outputs": [],
   "source": [
    "x_m = l*smp.sin(thet) + x; y_m = l*smp.cos(thet)"
   ]
  },
  {
   "cell_type": "code",
   "execution_count": 6,
   "metadata": {},
   "outputs": [],
   "source": [
    "v_sqr = smp.diff(x_m, t)**2 + smp.diff(y_m, t)**2"
   ]
  },
  {
   "cell_type": "code",
   "execution_count": 7,
   "metadata": {},
   "outputs": [],
   "source": [
    "v_sqr = v_sqr.simplify()"
   ]
  },
  {
   "cell_type": "code",
   "execution_count": 8,
   "metadata": {},
   "outputs": [],
   "source": [
    "T = 1/2 * M * x_d**2 + 1/2 * m * v_sqr"
   ]
  },
  {
   "cell_type": "code",
   "execution_count": 9,
   "metadata": {},
   "outputs": [],
   "source": [
    "V = m * g * y_m"
   ]
  },
  {
   "cell_type": "code",
   "execution_count": 10,
   "metadata": {},
   "outputs": [],
   "source": [
    "L = (T - V).simplify()"
   ]
  },
  {
   "cell_type": "code",
   "execution_count": 11,
   "metadata": {},
   "outputs": [],
   "source": [
    "Le_thet = smp.diff(L, thet) - smp.diff(smp.diff(L, thet_d), t)\n",
    "Le_x = smp.diff(L, x) - smp.diff(smp.diff(L, x_d), t)"
   ]
  },
  {
   "cell_type": "code",
   "execution_count": 12,
   "metadata": {},
   "outputs": [
    {
     "data": {
      "text/latex": [
       "$\\displaystyle g l m \\sin{\\left(\\theta{\\left(t \\right)} \\right)} - 1.0 l m \\sin{\\left(\\theta{\\left(t \\right)} \\right)} \\frac{d}{d t} \\theta{\\left(t \\right)} \\frac{d}{d t} x{\\left(t \\right)} - 0.5 m \\left(2 l^{2} \\frac{d^{2}}{d t^{2}} \\theta{\\left(t \\right)} - 2 l \\sin{\\left(\\theta{\\left(t \\right)} \\right)} \\frac{d}{d t} \\theta{\\left(t \\right)} \\frac{d}{d t} x{\\left(t \\right)} + 2 l \\cos{\\left(\\theta{\\left(t \\right)} \\right)} \\frac{d^{2}}{d t^{2}} x{\\left(t \\right)}\\right)$"
      ],
      "text/plain": [
       "g*l*m*sin(theta(t)) - 1.0*l*m*sin(theta(t))*Derivative(theta(t), t)*Derivative(x(t), t) - 0.5*m*(2*l**2*Derivative(theta(t), (t, 2)) - 2*l*sin(theta(t))*Derivative(theta(t), t)*Derivative(x(t), t) + 2*l*cos(theta(t))*Derivative(x(t), (t, 2)))"
      ]
     },
     "execution_count": 12,
     "metadata": {},
     "output_type": "execute_result"
    }
   ],
   "source": [
    "Le_thet"
   ]
  },
  {
   "cell_type": "code",
   "execution_count": 13,
   "metadata": {},
   "outputs": [
    {
     "data": {
      "text/latex": [
       "$\\displaystyle - 1.0 M \\frac{d^{2}}{d t^{2}} x{\\left(t \\right)} - 0.5 m \\left(- 2 l \\sin{\\left(\\theta{\\left(t \\right)} \\right)} \\left(\\frac{d}{d t} \\theta{\\left(t \\right)}\\right)^{2} + 2 l \\cos{\\left(\\theta{\\left(t \\right)} \\right)} \\frac{d^{2}}{d t^{2}} \\theta{\\left(t \\right)} + 2 \\frac{d^{2}}{d t^{2}} x{\\left(t \\right)}\\right)$"
      ],
      "text/plain": [
       "-1.0*M*Derivative(x(t), (t, 2)) - 0.5*m*(-2*l*sin(theta(t))*Derivative(theta(t), t)**2 + 2*l*cos(theta(t))*Derivative(theta(t), (t, 2)) + 2*Derivative(x(t), (t, 2)))"
      ]
     },
     "execution_count": 13,
     "metadata": {},
     "output_type": "execute_result"
    }
   ],
   "source": [
    "Le_x"
   ]
  },
  {
   "cell_type": "code",
   "execution_count": 14,
   "metadata": {},
   "outputs": [],
   "source": [
    "thet_dd_rhs = smp.solve(Le_thet, thet_dd)[0]\n",
    "x_dd_rhs = smp.solve(Le_x, x_dd)[0]"
   ]
  },
  {
   "cell_type": "code",
   "execution_count": 15,
   "metadata": {},
   "outputs": [
    {
     "data": {
      "text/latex": [
       "$\\displaystyle \\frac{g \\sin{\\left(\\theta{\\left(t \\right)} \\right)} - \\cos{\\left(\\theta{\\left(t \\right)} \\right)} \\frac{d^{2}}{d t^{2}} x{\\left(t \\right)}}{l}$"
      ],
      "text/plain": [
       "(g*sin(theta(t)) - cos(theta(t))*Derivative(x(t), (t, 2)))/l"
      ]
     },
     "execution_count": 15,
     "metadata": {},
     "output_type": "execute_result"
    }
   ],
   "source": [
    "thet_dd_rhs"
   ]
  },
  {
   "cell_type": "code",
   "execution_count": 16,
   "metadata": {},
   "outputs": [],
   "source": [
    "thet_dd_f = smp.lambdify([thet, thet_d, x, x_d, l, g, m, M], thet_dd_rhs, 'numpy')\n",
    "x_dd_f = smp.lambdify([thet, thet_d, x, x_d, l, g, m, M], x_dd_rhs, 'numpy')"
   ]
  },
  {
   "attachments": {},
   "cell_type": "markdown",
   "metadata": {},
   "source": [
    "$\\vec{S} = (\\theta, \\dot{\\theta}, x, \\dot{x})^T$"
   ]
  },
  {
   "cell_type": "code",
   "execution_count": 14,
   "metadata": {},
   "outputs": [],
   "source": [
    "def dsdt(S, t, l, g, m, M):\n",
    "    return [\n",
    "        S[1],\n",
    "        thet_dd_f(*S, l, g, m, M),\n",
    "        S[3],\n",
    "        x_dd_f(*S, l, g, m, M)\n",
    "    ]"
   ]
  },
  {
   "cell_type": "code",
   "execution_count": 15,
   "metadata": {},
   "outputs": [],
   "source": [
    "g_val = 9.81\n",
    "l_val = 1\n",
    "m_val = 1\n",
    "M_val = 3\n",
    "S0 = [np.pi/6, 0., 0., 0.]\n",
    "ts = np.linspace(0., 40., 1001)"
   ]
  },
  {
   "cell_type": "code",
   "execution_count": 16,
   "metadata": {},
   "outputs": [
    {
     "ename": "NameError",
     "evalue": "name 'Derivative' is not defined",
     "output_type": "error",
     "traceback": [
      "\u001b[1;31m---------------------------------------------------------------------------\u001b[0m",
      "\u001b[1;31mNameError\u001b[0m                                 Traceback (most recent call last)",
      "Cell \u001b[1;32mIn[16], line 1\u001b[0m\n\u001b[1;32m----> 1\u001b[0m soln \u001b[39m=\u001b[39m scipy\u001b[39m.\u001b[39;49mintegrate\u001b[39m.\u001b[39;49modeint(dsdt, S0, ts, args\u001b[39m=\u001b[39;49m(l_val, g_val, m_val, M_val))\n",
      "File \u001b[1;32mc:\\Users\\Airat\\thevenv\\Lib\\site-packages\\scipy\\integrate\\_odepack_py.py:242\u001b[0m, in \u001b[0;36modeint\u001b[1;34m(func, y0, t, args, Dfun, col_deriv, full_output, ml, mu, rtol, atol, tcrit, h0, hmax, hmin, ixpr, mxstep, mxhnil, mxordn, mxords, printmessg, tfirst)\u001b[0m\n\u001b[0;32m    240\u001b[0m t \u001b[39m=\u001b[39m copy(t)\n\u001b[0;32m    241\u001b[0m y0 \u001b[39m=\u001b[39m copy(y0)\n\u001b[1;32m--> 242\u001b[0m output \u001b[39m=\u001b[39m _odepack\u001b[39m.\u001b[39;49modeint(func, y0, t, args, Dfun, col_deriv, ml, mu,\n\u001b[0;32m    243\u001b[0m                          full_output, rtol, atol, tcrit, h0, hmax, hmin,\n\u001b[0;32m    244\u001b[0m                          ixpr, mxstep, mxhnil, mxordn, mxords,\n\u001b[0;32m    245\u001b[0m                          \u001b[39mint\u001b[39;49m(\u001b[39mbool\u001b[39;49m(tfirst)))\n\u001b[0;32m    246\u001b[0m \u001b[39mif\u001b[39;00m output[\u001b[39m-\u001b[39m\u001b[39m1\u001b[39m] \u001b[39m<\u001b[39m \u001b[39m0\u001b[39m:\n\u001b[0;32m    247\u001b[0m     warning_msg \u001b[39m=\u001b[39m _msgs[output[\u001b[39m-\u001b[39m\u001b[39m1\u001b[39m]] \u001b[39m+\u001b[39m \u001b[39m\"\u001b[39m\u001b[39m Run with full_output = 1 to get quantitative information.\u001b[39m\u001b[39m\"\u001b[39m\n",
      "Cell \u001b[1;32mIn[14], line 4\u001b[0m, in \u001b[0;36mdsdt\u001b[1;34m(S, t, l, g, m, M)\u001b[0m\n\u001b[0;32m      1\u001b[0m \u001b[39mdef\u001b[39;00m \u001b[39mdsdt\u001b[39m(S, t, l, g, m, M):\n\u001b[0;32m      2\u001b[0m     \u001b[39mreturn\u001b[39;00m [\n\u001b[0;32m      3\u001b[0m         S[\u001b[39m1\u001b[39m],\n\u001b[1;32m----> 4\u001b[0m         thet_dd_f(\u001b[39m*\u001b[39;49mS, l, g, m, M),\n\u001b[0;32m      5\u001b[0m         S[\u001b[39m3\u001b[39m],\n\u001b[0;32m      6\u001b[0m         x_dd_f(\u001b[39m*\u001b[39mS, l, g, m, M)\n\u001b[0;32m      7\u001b[0m     ]\n",
      "File \u001b[1;32m<lambdifygenerated-1>:4\u001b[0m, in \u001b[0;36m_lambdifygenerated\u001b[1;34m(_Dummy_56, _Dummy_54, _Dummy_55, _Dummy_53, l, g, m, M)\u001b[0m\n\u001b[0;32m      1\u001b[0m \u001b[39mdef\u001b[39;00m \u001b[39m_lambdifygenerated\u001b[39m(_Dummy_56, _Dummy_54, _Dummy_55, _Dummy_53, l, g, m, M):\n\u001b[0;32m      2\u001b[0m     \u001b[39mreturn\u001b[39;00m (  \u001b[39m# Not supported in Python with numpy:\u001b[39;00m\n\u001b[0;32m      3\u001b[0m   \u001b[39m# Derivative\u001b[39;00m\n\u001b[1;32m----> 4\u001b[0m (g\u001b[39m*\u001b[39msin(_Dummy_56) \u001b[39m-\u001b[39m cos(_Dummy_56)\u001b[39m*\u001b[39mDerivative(_Dummy_55, (t, \u001b[39m2\u001b[39m)))\u001b[39m/\u001b[39ml)\n",
      "\u001b[1;31mNameError\u001b[0m: name 'Derivative' is not defined"
     ]
    }
   ],
   "source": [
    "soln = scipy.integrate.odeint(dsdt, S0, ts, args=(l_val, g_val, m_val, M_val))"
   ]
  },
  {
   "cell_type": "code",
   "execution_count": null,
   "metadata": {},
   "outputs": [],
   "source": []
  }
 ],
 "metadata": {
  "kernelspec": {
   "display_name": "thevenv",
   "language": "python",
   "name": "python3"
  },
  "language_info": {
   "codemirror_mode": {
    "name": "ipython",
    "version": 3
   },
   "file_extension": ".py",
   "mimetype": "text/x-python",
   "name": "python",
   "nbconvert_exporter": "python",
   "pygments_lexer": "ipython3",
   "version": "3.11.2"
  },
  "orig_nbformat": 4
 },
 "nbformat": 4,
 "nbformat_minor": 2
}
